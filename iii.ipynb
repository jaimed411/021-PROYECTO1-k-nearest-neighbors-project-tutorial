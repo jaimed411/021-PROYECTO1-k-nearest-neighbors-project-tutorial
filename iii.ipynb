{
 "cells": [
  {
   "cell_type": "code",
   "execution_count": 14,
   "metadata": {},
   "outputs": [
    {
     "name": "stdout",
     "output_type": "stream",
     "text": [
      "Recomendaciones para la película 'The Hunger Games'\n",
      "Película: The Hunger Games: Mockingjay - Part 1\n",
      "Película: The Hunger Games: Mockingjay - Part 2\n",
      "Película: The Hunger Games: Catching Fire\n",
      "Película: Allegiant\n",
      "Película: Cirque du Freak: The Vampire's Assistant\n"
     ]
    }
   ],
   "source": [
    "import pandas as pd\n",
    "import sqlite3\n",
    "from sklearn.feature_extraction.text import TfidfVectorizer\n",
    "from sklearn.neighbors import NearestNeighbors\n",
    "import json  # Se agrega la importación del módulo json\n",
    "\n",
    "# Cargar los DataFrames desde los archivos CSV\n",
    "movies = pd.read_csv(r'C:\\Users\\Jaime\\Desktop\\4GEEKS\\PROYECTOS\\021-PROYECTO1-k-nearest-neighbors-project-tutorial-main\\tmdb_5000_movies.csv')\n",
    "credits = pd.read_csv(r'C:\\Users\\Jaime\\Desktop\\4GEEKS\\PROYECTOS\\021-PROYECTO1-k-nearest-neighbors-project-tutorial-main\\tmdb_5000_credits.csv')\n",
    "\n",
    "# Combinar los DataFrames movies y credits en un nuevo DataFrame result_dataframe\n",
    "result_dataframe = pd.merge(movies, credits, on='title')\n",
    "\n",
    "# Función para cargar el contenido JSON de forma segura\n",
    "def load_json_safe(json_str):\n",
    "    try:\n",
    "        return json.loads(json_str)\n",
    "    except (json.JSONDecodeError, TypeError):\n",
    "        return []\n",
    "\n",
    "# Transformar los datos\n",
    "result_dataframe['genres'] = result_dataframe['genres'].apply(lambda x: ' '.join([genre['name'] for genre in load_json_safe(x)]))\n",
    "result_dataframe['keywords'] = result_dataframe['keywords'].apply(lambda x: ' '.join([keyword['name'] for keyword in load_json_safe(x)]))\n",
    "result_dataframe['cast'] = result_dataframe['cast'].apply(lambda x: ' '.join([actor['name'] for actor in load_json_safe(x)[:3]]))\n",
    "result_dataframe['crew'] = result_dataframe['crew'].apply(lambda x: ' '.join([crew_member['name'] for crew_member in load_json_safe(x) if crew_member['job'] == 'Director']))\n",
    "result_dataframe['overview'] = result_dataframe['overview'].fillna('')  # Rellenar los valores NaN con cadena vacía\n",
    "result_dataframe['overview'] = result_dataframe['overview'].apply(lambda x: x[0] if x else '')  # Obtener el resumen o cadena vacía\n",
    "\n",
    "# Crear la columna 'tags' combinando las columnas relevantes\n",
    "result_dataframe['tags'] = result_dataframe['genres'] + ' ' + result_dataframe['keywords'] + ' ' + result_dataframe['cast'] + ' ' + result_dataframe['crew'] + ' ' + result_dataframe['overview']\n",
    "\n",
    "# Eliminar las columnas individuales que ya hemos combinado\n",
    "result_dataframe.drop(columns=['genres', 'keywords', 'cast', 'crew', 'overview'], inplace=True)\n",
    "\n",
    "# Crear una matriz TF-IDF para las etiquetas\n",
    "vectorizer = TfidfVectorizer()\n",
    "tfidf_matrix = vectorizer.fit_transform(result_dataframe['tags'])\n",
    "\n",
    "# Construir el modelo KNN con k=10 (10 vecinos más cercanos)\n",
    "knn_model = NearestNeighbors(n_neighbors=6, algorithm='brute', metric='cosine')\n",
    "knn_model.fit(tfidf_matrix)\n",
    "\n",
    "# Función para obtener las recomendaciones de películas basadas en una película de entrada\n",
    "def get_movie_recommendations(movie_title):\n",
    "    movie_index = result_dataframe[result_dataframe['title'] == movie_title].index[0]\n",
    "    distances, indices = knn_model.kneighbors(tfidf_matrix[movie_index])\n",
    "    similar_movies = [(result_dataframe['title'][i], distances[0][j]) for j, i in enumerate(indices[0])]\n",
    "    return similar_movies[1:]  # Excluimos la película de entrada (la más cercana)\n",
    "\n",
    "# Prueba del sistema de recomendación ingresando una película\n",
    "input_movie = \"The Hunger Games\"\n",
    "recommendations = get_movie_recommendations(input_movie)\n",
    "print(\"Recomendaciones para la película '{}'\".format(input_movie))\n",
    "for movie, distance in recommendations:\n",
    "    print(\"Película: {}\".format(movie))\n"
   ]
  }
 ],
 "metadata": {
  "kernelspec": {
   "display_name": "Python 3",
   "language": "python",
   "name": "python3"
  },
  "language_info": {
   "codemirror_mode": {
    "name": "ipython",
    "version": 3
   },
   "file_extension": ".py",
   "mimetype": "text/x-python",
   "name": "python",
   "nbconvert_exporter": "python",
   "pygments_lexer": "ipython3",
   "version": "3.9.5"
  },
  "orig_nbformat": 4
 },
 "nbformat": 4,
 "nbformat_minor": 2
}
